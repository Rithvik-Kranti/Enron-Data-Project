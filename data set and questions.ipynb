{
 "cells": [
  {
   "cell_type": "code",
   "execution_count": 2,
   "metadata": {
    "collapsed": true
   },
   "outputs": [],
   "source": [
    "#!/usr/bin/python\n",
    "\n",
    "\"\"\" \n",
    "    Starter code for exploring the Enron dataset (emails + finances);\n",
    "    loads up the dataset (pickled dict of dicts).\n",
    "\n",
    "    The dataset has the form:\n",
    "    enron_data[\"LASTNAME FIRSTNAME MIDDLEINITIAL\"] = { features_dict }\n",
    "\n",
    "    {features_dict} is a dictionary of features associated with that person.\n",
    "    You should explore features_dict as part of the mini-project,\n",
    "    but here's an example to get you started:\n",
    "\n",
    "    enron_data[\"SKILLING JEFFREY K\"][\"bonus\"] = 5600000\n",
    "    \n",
    "\"\"\"\n",
    "\n",
    "import pickle\n",
    "\n",
    "enron_data = pickle.load(open(\"C:/Users/Jon Targaryen/Desktop/mach learn/ud120-projects/final_project/final_project_dataset.pkl\", \"r\"))"
   ]
  },
  {
   "cell_type": "markdown",
   "metadata": {},
   "source": [
    "> **Info**:  The aggregated Enron email + financial dataset is stored in a dictionary, where each key in the dictionary is a \n",
    "person’s name and the value is a dictionary containing all the features of that person.The email + finance (E+F) data dictionary\n",
    "is stored as a pickle file,which is a handy way to store and load python objects directly. \n",
    "Use datasets_questions/explore_enron_data.py to load the dataset.\n",
    "\n"
   ]
  },
  {
   "cell_type": "code",
   "execution_count": 3,
   "metadata": {},
   "outputs": [
    {
     "name": "stdout",
     "output_type": "stream",
     "text": [
      "146\n"
     ]
    }
   ],
   "source": [
    "# How many data points (people) are in the dataset?\n",
    "\n",
    "print len(enron_data)"
   ]
  },
  {
   "cell_type": "code",
   "execution_count": 4,
   "metadata": {},
   "outputs": [
    {
     "name": "stdout",
     "output_type": "stream",
     "text": [
      "('METTS MARK', 21)\n",
      "('BAXTER JOHN C', 21)\n",
      "('ELLIOTT STEVEN', 21)\n",
      "('CORDES WILLIAM R', 21)\n",
      "('HANNON KEVIN P', 21)\n",
      "('MORDAUNT KRISTINA M', 21)\n",
      "('MEYER ROCKFORD G', 21)\n",
      "('MCMAHON JEFFREY', 21)\n",
      "('HORTON STANLEY C', 21)\n",
      "('PIPER GREGORY F', 21)\n",
      "('HUMPHREY GENE E', 21)\n",
      "('UMANOFF ADAM S', 21)\n",
      "('BLACHMAN JEREMY M', 21)\n",
      "('SUNDE MARTIN', 21)\n",
      "('GIBBS DANA R', 21)\n",
      "('LOWRY CHARLES P', 21)\n",
      "('COLWELL WESLEY', 21)\n",
      "('MULLER MARK S', 21)\n",
      "('JACKSON CHARLENE R', 21)\n",
      "('WESTFAHL RICHARD K', 21)\n",
      "('WALTERS GARETH W', 21)\n",
      "('WALLS JR ROBERT H', 21)\n",
      "('KITCHEN LOUISE', 21)\n",
      "('CHAN RONNIE', 21)\n",
      "('BELFER ROBERT', 21)\n",
      "('SHANKMAN JEFFREY A', 21)\n",
      "('WODRASKA JOHN', 21)\n",
      "('BERGSIEKER RICHARD P', 21)\n",
      "('URQUHART JOHN A', 21)\n",
      "('BIBI PHILIPPE A', 21)\n",
      "('RIEKER PAULA H', 21)\n",
      "('WHALEY DAVID A', 21)\n",
      "('BECK SALLY W', 21)\n",
      "('HAUG DAVID L', 21)\n",
      "('ECHOLS JOHN B', 21)\n",
      "('MENDELSOHN JOHN', 21)\n",
      "('HICKERSON GARY J', 21)\n",
      "('CLINE KENNETH W', 21)\n",
      "('LEWIS RICHARD', 21)\n",
      "('HAYES ROBERT E', 21)\n",
      "('MCCARTY DANNY J', 21)\n",
      "('KOPPER MICHAEL J', 21)\n",
      "('LEFF DANIEL P', 21)\n",
      "('LAVORATO JOHN J', 21)\n",
      "('BERBERIAN DAVID', 21)\n",
      "('DETMERING TIMOTHY J', 21)\n",
      "('WAKEHAM JOHN', 21)\n",
      "('POWERS WILLIAM', 21)\n",
      "('GOLD JOSEPH', 21)\n",
      "('BANNANTINE JAMES M', 21)\n",
      "('DUNCAN JOHN H', 21)\n",
      "('SHAPIRO RICHARD S', 21)\n",
      "('SHERRIFF JOHN R', 21)\n",
      "('SHELBY REX', 21)\n",
      "('LEMAISTRE CHARLES', 21)\n",
      "('DEFFNER JOSEPH M', 21)\n",
      "('KISHKILL JOSEPH G', 21)\n",
      "('WHALLEY LAWRENCE G', 21)\n",
      "('MCCONNELL MICHAEL S', 21)\n",
      "('PIRO JIM', 21)\n",
      "('DELAINEY DAVID W', 21)\n",
      "('SULLIVAN-SHAKLOVITZ COLLEEN', 21)\n",
      "('WROBEL BRUCE', 21)\n",
      "('LINDHOLM TOD A', 21)\n",
      "('MEYER JEROME J', 21)\n",
      "('LAY KENNETH L', 21)\n",
      "('BUTTS ROBERT H', 21)\n",
      "('OLSON CINDY K', 21)\n",
      "('MCDONALD REBECCA', 21)\n",
      "('CUMBERLAND MICHAEL S', 21)\n",
      "('GAHN ROBERT S', 21)\n",
      "('MCCLELLAN GEORGE', 21)\n",
      "('HERMANN ROBERT J', 21)\n",
      "('SCRIMSHAW MATTHEW', 21)\n",
      "('GATHMANN WILLIAM D', 21)\n",
      "('HAEDICKE MARK E', 21)\n",
      "('BOWEN JR RAYMOND M', 21)\n",
      "('GILLIS JOHN', 21)\n",
      "('FITZGERALD JAY L', 21)\n",
      "('MORAN MICHAEL P', 21)\n",
      "('REDMOND BRIAN L', 21)\n",
      "('BAZELIDES PHILIP J', 21)\n",
      "('BELDEN TIMOTHY N', 21)\n",
      "('DURAN WILLIAM D', 21)\n",
      "('THORN TERENCE H', 21)\n",
      "('FASTOW ANDREW S', 21)\n",
      "('FOY JOE', 21)\n",
      "('CALGER CHRISTOPHER F', 21)\n",
      "('RICE KENNETH D', 21)\n",
      "('KAMINSKI WINCENTY J', 21)\n",
      "('LOCKHART EUGENE E', 21)\n",
      "('COX DAVID', 21)\n",
      "('OVERDYKE JR JERE C', 21)\n",
      "('PEREIRA PAULO V. FERRAZ', 21)\n",
      "('STABLER FRANK', 21)\n",
      "('SKILLING JEFFREY K', 21)\n",
      "('BLAKE JR. NORMAN P', 21)\n",
      "('SHERRICK JEFFREY B', 21)\n",
      "('PRENTICE JAMES', 21)\n",
      "('GRAY RODNEY', 21)\n",
      "('PICKERING MARK R', 21)\n",
      "('THE TRAVEL AGENCY IN THE PARK', 21)\n",
      "('NOLES JAMES L', 21)\n",
      "('KEAN STEVEN J', 21)\n",
      "('TOTAL', 21)\n",
      "('FOWLER PEGGY', 21)\n",
      "('WASAFF GEORGE', 21)\n",
      "('WHITE JR THOMAS E', 21)\n",
      "('CHRISTODOULOU DIOMEDES', 21)\n",
      "('ALLEN PHILLIP K', 21)\n",
      "('SHARP VICTORIA T', 21)\n",
      "('JAEDICKE ROBERT', 21)\n",
      "('WINOKUR JR. HERBERT S', 21)\n",
      "('BROWN MICHAEL', 21)\n",
      "('BADUM JAMES P', 21)\n",
      "('HUGHES JAMES A', 21)\n",
      "('REYNOLDS LAWRENCE', 21)\n",
      "('DIMICHELE RICHARD G', 21)\n",
      "('BHATNAGAR SANJAY', 21)\n",
      "('CARTER REBECCA C', 21)\n",
      "('BUCHANAN HAROLD G', 21)\n",
      "('YEAP SOON', 21)\n",
      "('MURRAY JULIA H', 21)\n",
      "('GARLAND C KEVIN', 21)\n",
      "('DODSON KEITH', 21)\n",
      "('YEAGER F SCOTT', 21)\n",
      "('HIRKO JOSEPH', 21)\n",
      "('DIETRICH JANET R', 21)\n",
      "('DERRICK JR. JAMES V', 21)\n",
      "('FREVERT MARK A', 21)\n",
      "('PAI LOU L', 21)\n",
      "('BAY FRANKLIN R', 21)\n",
      "('HAYSLETT RODERICK J', 21)\n",
      "('FUGH JOHN L', 21)\n",
      "('FALLON JAMES B', 21)\n",
      "('KOENIG MARK E', 21)\n",
      "('SAVAGE FRANK', 21)\n",
      "('IZZO LAWRENCE L', 21)\n",
      "('TILNEY ELIZABETH A', 21)\n",
      "('MARTIN AMANDA K', 21)\n",
      "('BUY RICHARD B', 21)\n",
      "('GRAMM WENDY L', 21)\n",
      "('CAUSEY RICHARD A', 21)\n",
      "('TAYLOR MITCHELL S', 21)\n",
      "('DONAHUE JR JEFFREY M', 21)\n",
      "('GLISAN JR BEN F', 21)\n"
     ]
    }
   ],
   "source": [
    "# For each person, how many features are available?\n",
    "# features in data set\n",
    "\n",
    "for key, value in enron_data.items():\n",
    "    #print value\n",
    "    print(key, len(filter(bool, value)))\n",
    "\n",
    "    \n",
    "    "
   ]
  },
  {
   "cell_type": "markdown",
   "metadata": {},
   "source": [
    "> **Info**:   The “poi” feature records whether the person is a person of interest, according to our definition. \n"
   ]
  },
  {
   "cell_type": "code",
   "execution_count": 6,
   "metadata": {},
   "outputs": [
    {
     "name": "stdout",
     "output_type": "stream",
     "text": [
      " # POI is 18 \n"
     ]
    }
   ],
   "source": [
    "# How many POIs are there in the E+F dataset?\n",
    "\n",
    "counter = 0\n",
    "for i in enron_data.values():\n",
    "    if i['poi'] == True:\n",
    "        counter+=1\n",
    "print \" # POI is %d \" %counter   "
   ]
  },
  {
   "cell_type": "markdown",
   "metadata": {},
   "source": [
    "> **Info**: We compiled a list of all POI names (in ../final_project/poi_names.txt) and associated email addresses (in ../final_project/poi_email_addresses.py).\n"
   ]
  },
  {
   "cell_type": "code",
   "execution_count": 13,
   "metadata": {},
   "outputs": [
    {
     "name": "stdout",
     "output_type": "stream",
     "text": [
      "('Total number of POIs: ', 35)\n"
     ]
    }
   ],
   "source": [
    "# How many POI’s were there total? \n",
    "# (Use the names file, not the email addresses, since many folks have more than one address and a few didn’t work for Enron, \n",
    "# so we don’t have their emails.)\n",
    "\n",
    "poi_name_record = open(\"C:/Users/Jon Targaryen/Desktop/mach learn/ud120-projects/final_project/poi_names.txt\").read().split(\"\\n\")\n",
    "poi_name_total = [record for record in poi_name_record if \"(y)\" in record or \"(n)\" in record]\n",
    "print(\"Total number of POIs: \", len(poi_name_total))"
   ]
  },
  {
   "cell_type": "code",
   "execution_count": null,
   "metadata": {
    "collapsed": true
   },
   "outputs": [],
   "source": []
  }
 ],
 "metadata": {
  "kernelspec": {
   "display_name": "Python 2",
   "language": "python",
   "name": "python2"
  },
  "language_info": {
   "codemirror_mode": {
    "name": "ipython",
    "version": 2
   },
   "file_extension": ".py",
   "mimetype": "text/x-python",
   "name": "python",
   "nbconvert_exporter": "python",
   "pygments_lexer": "ipython2",
   "version": "2.7.14"
  }
 },
 "nbformat": 4,
 "nbformat_minor": 2
}
