{
 "cells": [
  {
   "cell_type": "markdown",
   "metadata": {},
   "source": [
    "Evaluation metrics :\n",
    "\n",
    "Say football game.\n",
    "\n",
    "Metric 1 : how many games won.\n",
    "\n",
    "Metric 2 : how many goals score.\n",
    "\n",
    "Metric 3 : how long does the game last. etc."
   ]
  },
  {
   "cell_type": "markdown",
   "metadata": {},
   "source": [
    "**Accuracy:** \n",
    "\n",
    "1. No. of data points labeled correctly / all data points. \n",
    "2. Accuracy problem when skewed classes : Not an ideal metric in cases where you have very few examples of one of the classes.\n"
   ]
  },
  {
   "cell_type": "markdown",
   "metadata": {},
   "source": [
    "**Recall: ////Sensitivity **\n",
    "\n",
    "If we are looking at performance on a specific class, then we are looking at recall.\n",
    "\n",
    "1. How many +ve items were recalled from dataset.\n",
    "2. TP/ (TP+FN).\n",
    "3. Recall is a measure of completeness or quantity.\n",
    "4. Associated with type 2 error.(FN)\n",
    "5. High recall means that an algorithm returned most of the relevant results."
   ]
  },
  {
   "cell_type": "markdown",
   "metadata": {},
   "source": [
    "**Precision: **\n",
    "\n",
    "1. Out of all items labelled as +ve, how many truly belong to the +ve class.\n",
    "2. TP/ (TP+FP).\n",
    "2. Precision can be seen as a measure of exactness or quality.\n",
    "4. Associated with type 1 error.(FP)\n",
    "5. High precision means that an algorithm returned substantially more relevant results than irrelevant ones."
   ]
  },
  {
   "cell_type": "code",
   "execution_count": null,
   "metadata": {},
   "outputs": [],
   "source": []
  }
 ],
 "metadata": {
  "kernelspec": {
   "display_name": "Python 3",
   "language": "python",
   "name": "python3"
  },
  "language_info": {
   "codemirror_mode": {
    "name": "ipython",
    "version": 3
   },
   "file_extension": ".py",
   "mimetype": "text/x-python",
   "name": "python",
   "nbconvert_exporter": "python",
   "pygments_lexer": "ipython3",
   "version": "3.6.3"
  }
 },
 "nbformat": 4,
 "nbformat_minor": 2
}
