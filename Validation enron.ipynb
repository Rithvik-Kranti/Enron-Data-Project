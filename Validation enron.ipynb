{
 "cells": [
  {
   "cell_type": "markdown",
   "metadata": {},
   "source": [
    "**Q** : Why train-test split?\n",
    "\n",
    "**A** : \n",
    "1. Gives estimate of performance on an independent dataset.\n",
    "2.  Serves as check for overfitting.\n",
    "\n",
    "Drawback : \n",
    "If you hold out 10 % or 20 % of data for testing , then that data is not going to be available when training.\n",
    "\n",
    "Testing data is only something used as a tool for validating the steps we took when we were training."
   ]
  },
  {
   "cell_type": "code",
   "execution_count": null,
   "metadata": {},
   "outputs": [],
   "source": [
    "from sklearn import cross_validation # for version 0.17\n",
    "\n",
    "from sklearn.model_selection import train_test_split  # For version 0.18\n",
    "\n",
    "features_train, features_test, labels_train, labels_test = cross_validation.train_test_split(\n",
    "                                                features, labels,test_size=0.4,random_state=0)\n",
    "\n",
    "\n",
    "\n",
    "X_train, X_test, y_train, y_test = cross_validation.train_test_split(iris.data, iris.target, test_size=0.4, random_state=0)\n",
    "\n",
    "X_train.shape, y_train.shape\n",
    "X_test.shape, y_test.shape\n"
   ]
  },
  {
   "cell_type": "markdown",
   "metadata": {},
   "source": [
    "**Where to use training , where to use testing: **\n",
    "\n",
    "*example:*\n",
    "\n",
    "1. **Training**:\n",
    "    1. pca.fit (training _features)\n",
    "    2. pca.transform (training _features)\n",
    "    3. svc.fit(training_features)\n",
    "2. **Testing**:\n",
    "    1. pca.transform(testing_features) ## representing test data with PC's found on training data.\n",
    "    2. svc.predict(testing_features)"
   ]
  },
  {
   "cell_type": "markdown",
   "metadata": {},
   "source": []
  },
  {
   "cell_type": "code",
   "execution_count": null,
   "metadata": {},
   "outputs": [],
   "source": []
  },
  {
   "cell_type": "code",
   "execution_count": null,
   "metadata": {},
   "outputs": [],
   "source": []
  },
  {
   "cell_type": "code",
   "execution_count": null,
   "metadata": {},
   "outputs": [],
   "source": []
  },
  {
   "cell_type": "code",
   "execution_count": null,
   "metadata": {},
   "outputs": [],
   "source": []
  }
 ],
 "metadata": {
  "kernelspec": {
   "display_name": "Python 3",
   "language": "python",
   "name": "python3"
  },
  "language_info": {
   "codemirror_mode": {
    "name": "ipython",
    "version": 3
   },
   "file_extension": ".py",
   "mimetype": "text/x-python",
   "name": "python",
   "nbconvert_exporter": "python",
   "pygments_lexer": "ipython3",
   "version": "3.6.3"
  }
 },
 "nbformat": 4,
 "nbformat_minor": 2
}
